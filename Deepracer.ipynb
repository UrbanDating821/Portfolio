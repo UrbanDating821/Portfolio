{
  "nbformat": 4,
  "nbformat_minor": 0,
  "metadata": {
    "colab": {
      "name": "Untitled",
      "provenance": [],
      "collapsed_sections": [],
      "toc_visible": true,
      "authorship_tag": "ABX9TyNcJPQGVmeSPn03wFbRL4Ni",
      "include_colab_link": true
    },
    "kernelspec": {
      "name": "python3",
      "display_name": "Python 3"
    },
    "language_info": {
      "name": "python"
    }
  },
  "cells": [
    {
      "cell_type": "markdown",
      "metadata": {
        "id": "view-in-github",
        "colab_type": "text"
      },
      "source": [
        "<a href=\"https://colab.research.google.com/github/UrbanDating821/Portfolio/blob/master/Deepracer.ipynb\" target=\"_parent\"><img src=\"https://colab.research.google.com/assets/colab-badge.svg\" alt=\"Open In Colab\"/></a>"
      ]
    },
    {
      "cell_type": "markdown",
      "source": [
        "#딥레이서 보상함수"
      ],
      "metadata": {
        "id": "cbdZ_YCqp3OP"
      }
    },
    {
      "cell_type": "code",
      "execution_count": null,
      "metadata": {
        "id": "v4bO42rd3UAO"
      },
      "outputs": [],
      "source": [
        "def reward_function(params):\n",
        "    \n",
        "    # Read input parameters\n",
        "    distance_from_center = params['distance_from_center']\n",
        "    track_width = params['track_width']\n",
        "    steering = abs(params['steering_angle']) # Only need the absolute steering angle\n",
        "    all_wheels_on_track = params['all_wheels_on_track']\n",
        "\n",
        "    # Calculate 3 markers that are at varying distances away from the center line\n",
        "    marker_1 = 0.1 * track_width\n",
        "    marker_2 = 0.25 * track_width\n",
        "    marker_3 = 0.5 * track_width\n",
        "\n",
        "    # Give higher reward if the agent is closer to center line and vice versa\n",
        "    if distance_from_center <= marker_1:\n",
        "        reward = 1\n",
        "    elif distance_from_center <= marker_2:\n",
        "        reward = 0.5\n",
        "    elif distance_from_center <= marker_3:\n",
        "        reward = 0.1\n",
        "    else:\n",
        "        reward = 1e-3  # likely crashed/ close to off track\n",
        "\n",
        "    # Steering penality threshold, change the number based on your action space setting\n",
        "    ABS_STEERING_THRESHOLD = 15\n",
        "\n",
        "    # Penalize reward if the agent is steering too much\n",
        "    if steering > ABS_STEERING_THRESHOLD:\n",
        "        reward *= 0.8\n",
        "    \n",
        "    # Give reward if agent is on track and under certain distance away from centerline\n",
        "    if all_wheels_on_track and (0.5 * track_width - distance_from_center) >= 0.05:\n",
        "        reward = 1.0\n",
        "\n",
        "    return float(reward)"
      ]
    }
  ]
}